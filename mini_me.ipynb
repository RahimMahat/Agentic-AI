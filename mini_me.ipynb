{
 "cells": [
  {
   "cell_type": "code",
   "execution_count": 1,
   "id": "685b1664",
   "metadata": {},
   "outputs": [],
   "source": [
    "from openai import OpenAI\n",
    "from pypdf import PdfReader\n",
    "import gradio as gr"
   ]
  },
  {
   "cell_type": "code",
   "execution_count": 7,
   "id": "af2c2dcd",
   "metadata": {},
   "outputs": [],
   "source": [
    "openai = OpenAI(base_url=\"http://localhost:11434/v1\", api_key=\"ollama\")\n",
    "MODEL = \"llama3.2\""
   ]
  },
  {
   "cell_type": "code",
   "execution_count": 2,
   "id": "12984c3d",
   "metadata": {},
   "outputs": [],
   "source": [
    "reader = PdfReader(\"me/rahim_linkedin.pdf\")\n",
    "linkedin = \"\"\n",
    "for page in reader.pages:\n",
    "    text = page.extract_text()\n",
    "    if text:\n",
    "        linkedin += text"
   ]
  },
  {
   "cell_type": "code",
   "execution_count": 3,
   "id": "d71ae439",
   "metadata": {},
   "outputs": [],
   "source": [
    "with open(\"me/summary.txt\", \"r\", encoding=\"utf-8\") as f:\n",
    "    summary = f.read()"
   ]
  },
  {
   "cell_type": "code",
   "execution_count": 4,
   "id": "98cbdb4d",
   "metadata": {},
   "outputs": [],
   "source": [
    "name = \"Rahim Mahat\""
   ]
  },
  {
   "cell_type": "code",
   "execution_count": 5,
   "id": "92346acd",
   "metadata": {},
   "outputs": [],
   "source": [
    "system_prompt = f\"You are acting as {name}. You are answering questions on {name}'s website, \\\n",
    "particularly questions related to {name}'s career, background, skills and experience. \\\n",
    "Your responsibility is to represent {name} for interactions on the website as faithfully as possible. \\\n",
    "You are given a summary of {name}'s background and LinkedIn profile which you can use to answer questions. \\\n",
    "Be professional and engaging, as if talking to a potential client or future employer who came across the website. \\\n",
    "If you don't know the answer, say so.\"\n",
    "\n",
    "system_prompt += f\"\\n\\n## Summary:\\n{summary}\\n\\n## LinkedIn Profile:\\n{linkedin}\\n\\n\"\n",
    "system_prompt += f\"With this context, please chat with the user, always staying in character as {name}.\"\n"
   ]
  },
  {
   "cell_type": "code",
   "execution_count": 6,
   "id": "0f9b1f82",
   "metadata": {},
   "outputs": [
    {
     "name": "stdout",
     "output_type": "stream",
     "text": [
      "You are acting as Rahim Mahat. You are answering questions on Rahim Mahat's website, particularly questions related to Rahim Mahat's career, background, skills and experience. Your responsibility is to represent Rahim Mahat for interactions on the website as faithfully as possible. You are given a summary of Rahim Mahat's background and LinkedIn profile which you can use to answer questions. Be professional and engaging, as if talking to a potential client or future employer who came across the website. If you don't know the answer, say so.\n",
      "\n",
      "## Summary:\n",
      "I'm a detail-oriented developer with a strong focus on clean architecture, AWS infrastructure (especially API Gateway, Lambda, and Glue), and Terraform. You prioritize modular, maintainable code and apply best practices like SOLID principles. You’re currently building scalable backend systems.\n",
      "\n",
      "\n",
      "## LinkedIn Profile:\n",
      "   \n",
      "Contact\n",
      "rahimmahat07@gmail.com\n",
      "www.linkedin.com/in/rahim-mahat-\n",
      "b53746203 (LinkedIn)\n",
      "github.com/RahimMahat (Personal)\n",
      "Top Skills\n",
      "Terraform\n",
      "AWS CloudFormation\n",
      "Appflow\n",
      "Rahim Mahat\n",
      "Cloud & Data Engineer | 3+ Yrs AWS, Terraform, PySpark | Expert in\n",
      "Secure, Scalable ETL Pipelines | Turning Complex Data into Cloud\n",
      "Solutions | Passionate About Automation, Security & Insights\n",
      "Pune, Maharashtra, India\n",
      "Summary\n",
      "Rahim Mahat\n",
      "As a tech enthusiast with a foundation in Computer Science and\n",
      "Engineering, I’ve always been drawn to solving real-world problems\n",
      "through data and automation. My academic journey equipped me\n",
      "with a strong understanding of programming, data structures, and\n",
      "cloud technologies—laying the groundwork for my passion for\n",
      "building intelligent, scalable systems. Early on, I immersed myself\n",
      "in projects that integrated cloud platforms and data visualization,\n",
      "sparking a lifelong interest in cloud-native solutions and data-driven\n",
      "decision-making.\n",
      "Professionally, I’ve gained over 3 years of hands-on experience\n",
      "across roles in Data Engineering and Cloud Architecture, primarily\n",
      "at InfoCepts—a leader in Data and AI services. I’ve architected\n",
      "high-performance ETL pipelines using AWS Glue, PySpark, and\n",
      "Terraform; led secure API integrations; and built automation-driven\n",
      "infrastructure using AWS CDK and Jenkins. My work spans a variety\n",
      "of domains, including cloud security, real-time event processing,\n",
      "and data warehousing with Redshift and Denodo. Every project\n",
      "I’ve worked on has helped businesses unlock insights, optimize\n",
      "performance, and reduce operational costs.\n",
      "Looking ahead, I aim to deepen my expertise in cloud-native\n",
      "development, serverless architectures, and advanced data\n",
      "engineering practices. I’m especially interested in contributing to\n",
      "projects at the intersection of cloud computing, AI, and automation.\n",
      "My goal is to lead transformative initiatives that drive innovation,\n",
      "scalability, and meaningful business outcomes. I thrive in\n",
      "collaborative, fast-paced environments where I can mentor, learn,\n",
      "and continue building secure, intelligent cloud systems that shape\n",
      "the future of data engineering.\n",
      "  Page 1 of 2   \n",
      "Experience\n",
      "InfoCepts\n",
      "3 years 4 months\n",
      "Senior Data Engineer\n",
      "April 2024 - Present (1 year 2 months)\n",
      "Pune, Maharashtra, India\n",
      "Designed and deployed high-performance ETL pipelines using AWS Glue,\n",
      "PySpark, and Jenkins, reducing data processing latency by 50%\n",
      "Automated infrastructure provisioning with Terraform and AWS CDK, cutting\n",
      "manual effort by 40%\n",
      "Implemented token-based authentication for API Gateway integrations,\n",
      "enhancing system security and compliance\n",
      "Architected a scalable, event-driven ingestion framework, ensuring high\n",
      "availability and fault tolerance across services\n",
      "Optimized data storage with AWS S3, Denodo, and Data Virtualization, leading\n",
      "to a 30% reduction in storage costs\n",
      "Developed real-time error-handling mechanisms, decreasing system failures\n",
      "and inconsistencies by 25%\n",
      "Partnered with cross-functional teams to enable real-time analytics and\n",
      "support data-driven decision-making\n",
      "Data Engineer\n",
      "August 2022 - April 2024 (1 year 9 months)\n",
      "Nagpur, Maharashtra, India\n",
      "End to End SDLC | Core Delivery | AWS Development | Data Visualization,\n",
      "Engineering, Modeling | Cloud Engineering | Software Development | Web\n",
      "Development | API Development, Security\n",
      "Assistant Analyst\n",
      "February 2022 - August 2022 (7 months)\n",
      "Nagpur, Maharashtra, India\n",
      "Education\n",
      "Sharad Institute of Technology College of Engineering, Gat\n",
      "Bachelor of Technology - BTech, Electronics and TeleCommunication\n",
      "Engineering  · (2018 - 2022)\n",
      "  Page 2 of 2\n",
      "\n",
      "With this context, please chat with the user, always staying in character as Rahim Mahat.\n"
     ]
    }
   ],
   "source": [
    "print(system_prompt)"
   ]
  },
  {
   "cell_type": "code",
   "execution_count": 8,
   "id": "a033cc84",
   "metadata": {},
   "outputs": [],
   "source": [
    "def chat(message, history):\n",
    "    messages = [{\"role\": \"system\", \"content\": system_prompt}] + history + [{\"role\": \"user\", \"content\": message}]\n",
    "    response = openai.chat.completions.create(model=MODEL, messages=messages)\n",
    "    return response.choices[0].message.content"
   ]
  },
  {
   "cell_type": "code",
   "execution_count": 9,
   "id": "db4f0960",
   "metadata": {},
   "outputs": [
    {
     "name": "stdout",
     "output_type": "stream",
     "text": [
      "* Running on local URL:  http://127.0.0.1:7860\n",
      "* To create a public link, set `share=True` in `launch()`.\n"
     ]
    },
    {
     "data": {
      "text/html": [
       "<div><iframe src=\"http://127.0.0.1:7860/\" width=\"100%\" height=\"500\" allow=\"autoplay; camera; microphone; clipboard-read; clipboard-write;\" frameborder=\"0\" allowfullscreen></iframe></div>"
      ],
      "text/plain": [
       "<IPython.core.display.HTML object>"
      ]
     },
     "metadata": {},
     "output_type": "display_data"
    },
    {
     "data": {
      "text/plain": []
     },
     "execution_count": 9,
     "metadata": {},
     "output_type": "execute_result"
    }
   ],
   "source": [
    "gr.ChatInterface(chat, type=\"messages\").launch()"
   ]
  },
  {
   "cell_type": "code",
   "execution_count": null,
   "id": "e8b639bb",
   "metadata": {},
   "outputs": [],
   "source": [
    "from pydantic import BaseModel\n",
    "\n",
    "class Evaluation(BaseModel):\n",
    "    is_acceptable: bool\n",
    "    feedback: str"
   ]
  },
  {
   "cell_type": "code",
   "execution_count": null,
   "id": "2994371e",
   "metadata": {},
   "outputs": [],
   "source": [
    "evaluator_system_prompt = f\"You are an evaluator that decides whether a response to a question is acceptable. \\\n",
    "You are provided with a conversation between a User and an Agent. Your task is to decide whether the Agent's latest response is acceptable quality. \\\n",
    "The Agent is playing the role of {name} and is representing {name} on their website. \\\n",
    "The Agent has been instructed to be professional and engaging, as if talking to a potential client or future employer who came across the website. \\\n",
    "The Agent has been provided with context on {name} in the form of their summary and LinkedIn details. Here's the information:\"\n",
    "\n",
    "evaluator_system_prompt += f\"\\n\\n## Summary:\\n{summary}\\n\\n## LinkedIn Profile:\\n{linkedin}\\n\\n\"\n",
    "evaluator_system_prompt += f\"With this context, please evaluate the latest response, replying with whether the response is acceptable and your feedback.\""
   ]
  },
  {
   "cell_type": "code",
   "execution_count": null,
   "id": "73f2e089",
   "metadata": {},
   "outputs": [],
   "source": [
    "def evaluator_user_prompt(reply, message, history):\n",
    "    \"\"\" This function is used to generate the prompt for the evaluator model. \"\"\"\n",
    "    \n",
    "    user_prompt = f\"Here's the conversation between the User and the Agent: \\n\\n{history}\\n\\n\"\n",
    "    user_prompt += f\"Here's the latest message from the User: \\n\\n{message}\\n\\n\"\n",
    "    user_prompt += f\"Here's the latest response from the Agent: \\n\\n{reply}\\n\\n\"\n",
    "    user_prompt += f\"Please evaluate the response, replying with whether it is acceptable and your feedback.\"\n",
    "    return user_prompt"
   ]
  },
  {
   "cell_type": "code",
   "execution_count": null,
   "id": "c4ea5baf",
   "metadata": {},
   "outputs": [],
   "source": [
    "import os\n",
    "from dotenv import load_dotenv\n",
    "load_dotenv(override=True)\n",
    "gemini = OpenAI(\n",
    "    api_key=os.getenv(\"GOOGLE_API_KEY\"), \n",
    "    base_url=\"https://generativelanguage.googleapis.com/v1beta/openai/\"\n",
    ")"
   ]
  },
  {
   "cell_type": "code",
   "execution_count": null,
   "id": "1fab8219",
   "metadata": {},
   "outputs": [],
   "source": [
    "def evaluate(reply, message, history) -> Evaluation:\n",
    "    \"\"\" Evaluate the reply for the message. \"\"\"\n",
    "    messages = [{\"role\": \"system\", \"content\": evaluator_system_prompt}] + [{\"role\": \"user\", \"content\": evaluator_user_prompt(reply, message, history)}]\n",
    "    response = gemini.beta.chat.completions.parse(model=\"gemini-2.0-flash\", messages=messages, response_format=Evaluation)\n",
    "    return response.choices[0].message.parsed"
   ]
  },
  {
   "cell_type": "code",
   "execution_count": null,
   "id": "407bd70c",
   "metadata": {},
   "outputs": [],
   "source": [
    "messages = [{\"role\": \"system\", \"content\": system_prompt}] + [{\"role\": \"user\", \"content\": \"do you hold a patent?\"}]\n",
    "response = openai.chat.completions.create(model=\"gpt-4o-mini\", messages=messages)\n",
    "reply = response.choices[0].message.content"
   ]
  },
  {
   "cell_type": "code",
   "execution_count": null,
   "id": "22c328b7",
   "metadata": {},
   "outputs": [],
   "source": [
    "evaluate(reply, \"do you hold a patent?\", messages[:1])"
   ]
  },
  {
   "cell_type": "code",
   "execution_count": null,
   "id": "98b20b61",
   "metadata": {},
   "outputs": [],
   "source": [
    "def rerun(reply, message, history, feedback):\n",
    "    \"\"\" Rerun the model with the updated system prompt \"\"\"\n",
    "    updated_system_prompt = system_prompt + f\"\\n\\n## Previous answer rejected\\nYou just tried to reply, but the quality control rejected your reply\\n\"\n",
    "    updated_system_prompt += f\"## Your attempted answer:\\n{reply}\\n\\n\"\n",
    "    updated_system_prompt += f\"## Reason for rejection:\\n{feedback}\\n\\n\"\n",
    "    messages = [{\"role\": \"system\", \"content\": updated_system_prompt}] + history + [{\"role\": \"user\", \"content\": message}]\n",
    "    response = openai.chat.completions.create(model=\"gpt-4o-mini\", messages=messages)\n",
    "    return response.choices[0].message.content"
   ]
  },
  {
   "cell_type": "code",
   "execution_count": null,
   "id": "5caee812",
   "metadata": {},
   "outputs": [],
   "source": [
    "def chat(message, history):\n",
    "    \"\"\"Simulate a chat conversation.\"\"\"\n",
    "    system = system_prompt\n",
    "    messages = [{\"role\": \"system\", \"content\": system}] + history + [{\"role\": \"user\", \"content\": message}]\n",
    "    response = openai.chat.completions.create(model=\"gpt-4o-mini\", messages=messages)\n",
    "    reply =response.choices[0].message.content\n",
    "\n",
    "    evaluation = evaluate(reply, message, history)\n",
    "    \n",
    "    if evaluation.is_acceptable:\n",
    "        print(\"Passed evaluation - returning reply\")\n",
    "    else:\n",
    "        print(\"Failed evaluation - retrying\")\n",
    "        print(evaluation.feedback)\n",
    "        reply = rerun(reply, message, history, evaluation.feedback)       \n",
    "    return reply"
   ]
  },
  {
   "cell_type": "code",
   "execution_count": null,
   "id": "0656a5b2",
   "metadata": {},
   "outputs": [],
   "source": [
    "gr.ChatInterface(chat, type=\"messages\").launch()"
   ]
  }
 ],
 "metadata": {
  "kernelspec": {
   "display_name": ".venv",
   "language": "python",
   "name": "python3"
  },
  "language_info": {
   "codemirror_mode": {
    "name": "ipython",
    "version": 3
   },
   "file_extension": ".py",
   "mimetype": "text/x-python",
   "name": "python",
   "nbconvert_exporter": "python",
   "pygments_lexer": "ipython3",
   "version": "3.12.10"
  }
 },
 "nbformat": 4,
 "nbformat_minor": 5
}
